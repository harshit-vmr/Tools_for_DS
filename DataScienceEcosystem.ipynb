{
 "cells": [
  {
   "cell_type": "markdown",
   "id": "0450464e-689e-46b9-b3ac-3bc1de52f96a",
   "metadata": {},
   "source": [
    "# Data Science Tools and Ecosystem"
   ]
  },
  {
   "cell_type": "markdown",
   "id": "b3ede39f-0708-4041-9569-43767822e7b7",
   "metadata": {
    "tags": []
   },
   "source": [
    "In this notebook, Data Science Tools and Ecosystem are summarized."
   ]
  },
  {
   "cell_type": "markdown",
   "id": "29dad9e6-a7a0-427f-ba54-8993e7674aa5",
   "metadata": {},
   "source": [
    "**Objectives:**\n",
    " - popular languages that Data Scientists\n",
    " - commonly used libraries used by Data Scientists\n",
    " - arithmetic expression to mutiply"
   ]
  },
  {
   "cell_type": "markdown",
   "id": "387a026c-f501-42fd-a7bf-55b1c265e91a",
   "metadata": {},
   "source": [
    "Some of the popular languages that Data Scientists use are:"
   ]
  },
  {
   "cell_type": "markdown",
   "id": "477a212b-12ae-47af-85f6-9ab1c61f8968",
   "metadata": {},
   "source": [
    "1. Python\n",
    "2. R\n",
    "3. Java"
   ]
  },
  {
   "cell_type": "markdown",
   "id": "12780408-2c42-47d5-987d-6d97cbef2bbf",
   "metadata": {},
   "source": [
    "Some of the commonly used libraries used by Data Scientists include:\n",
    "1. NumPy\n",
    "2. pandas\n",
    "3. Julia"
   ]
  },
  {
   "cell_type": "markdown",
   "id": "77fdbec2-c70f-434a-8e69-dd0af62e16c1",
   "metadata": {},
   "source": [
    "| Data Science Tools |\n",
    "| -------------|\n",
    "| SQL |\n",
    "| Machine Learning |\n",
    "| Plotting |"
   ]
  },
  {
   "cell_type": "markdown",
   "id": "8e41b307-9d28-4090-a17d-8e336a644928",
   "metadata": {},
   "source": [
    "### Below are a few examples of evaluating arithmetic expressions in Python"
   ]
  },
  {
   "cell_type": "code",
   "execution_count": 5,
   "id": "3200cf6c-5b40-4fa9-8cb2-be7e43450c32",
   "metadata": {
    "tags": []
   },
   "outputs": [
    {
     "data": {
      "text/plain": [
       "17"
      ]
     },
     "execution_count": 5,
     "metadata": {},
     "output_type": "execute_result"
    }
   ],
   "source": [
    "# This a simple arithmetic expression to mutiply then add integers\n",
    "(3*4)+5"
   ]
  },
  {
   "cell_type": "code",
   "execution_count": 4,
   "id": "467a3bbf-bb23-4ee9-bbb8-953e07e668ce",
   "metadata": {
    "tags": []
   },
   "outputs": [
    {
     "data": {
      "text/plain": [
       "3.3333333333333335"
      ]
     },
     "execution_count": 4,
     "metadata": {},
     "output_type": "execute_result"
    }
   ],
   "source": [
    "# This will convert 200 minutes to hours by diving by 60\n",
    "min = 200\n",
    "hours = min/60\n",
    "hours"
   ]
  },
  {
   "cell_type": "markdown",
   "id": "7f1863f9-d5d4-4a0c-b5d0-21abf0f8783d",
   "metadata": {},
   "source": [
    "## Author\n",
    " Harshit Verma"
   ]
  },
  {
   "cell_type": "code",
   "execution_count": null,
   "id": "c2f6e3d8-5f38-47ff-9279-a641cd57effb",
   "metadata": {},
   "outputs": [],
   "source": []
  }
 ],
 "metadata": {
  "kernelspec": {
   "display_name": "Python",
   "language": "python",
   "name": "conda-env-python-py"
  },
  "language_info": {
   "codemirror_mode": {
    "name": "ipython",
    "version": 3
   },
   "file_extension": ".py",
   "mimetype": "text/x-python",
   "name": "python",
   "nbconvert_exporter": "python",
   "pygments_lexer": "ipython3",
   "version": "3.7.12"
  }
 },
 "nbformat": 4,
 "nbformat_minor": 5
}
